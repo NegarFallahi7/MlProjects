{
  "nbformat": 4,
  "nbformat_minor": 0,
  "metadata": {
    "colab": {
      "provenance": [],
      "authorship_tag": "ABX9TyPX6MhfAGdfb5Zjl/J5ybqx",
      "include_colab_link": true
    },
    "kernelspec": {
      "name": "python3",
      "display_name": "Python 3"
    },
    "language_info": {
      "name": "python"
    }
  },
  "cells": [
    {
      "cell_type": "markdown",
      "metadata": {
        "id": "view-in-github",
        "colab_type": "text"
      },
      "source": [
        "<a href=\"https://colab.research.google.com/github/NegarFallahi7/MlProjects/blob/master/CNN_Hoda_dynamic_input_shape.ipynb\" target=\"_parent\"><img src=\"https://colab.research.google.com/assets/colab-badge.svg\" alt=\"Open In Colab\"/></a>"
      ]
    },
    {
      "cell_type": "code",
      "execution_count": 3,
      "metadata": {
        "id": "X1AkUvHon_mK"
      },
      "outputs": [],
      "source": [
        "!mkdir dataset"
      ]
    },
    {
      "cell_type": "markdown",
      "source": [
        "upload Data_hoda_full.mat -\n",
        "upload dataset.py"
      ],
      "metadata": {
        "id": "elaHH_TWqet7"
      }
    },
    {
      "cell_type": "code",
      "source": [
        "# 1. Import libraries and modules\n",
        "from tensorflow import keras\n",
        "from keras import layers\n",
        "from keras.models import Sequential\n",
        "from keras.layers import Dense, Dropout\n",
        "import numpy as np\n",
        "from dataset import load_hoda\n",
        "import matplotlib.pyplot as plt"
      ],
      "metadata": {
        "id": "wcPC-78PqKgk"
      },
      "execution_count": 4,
      "outputs": []
    },
    {
      "cell_type": "code",
      "source": [
        "# Load pre-shuffled HODA data into train and test sets\n",
        "X_train_28, y_train_28, X_test_28, y_test_28 = load_hoda(\n",
        "                                            training_sample_size=3500,\n",
        "                                            test_sample_size=400,size=28)"
      ],
      "metadata": {
        "id": "JqH6i1uHqKqL"
      },
      "execution_count": 6,
      "outputs": []
    },
    {
      "cell_type": "code",
      "source": [
        "# Making a sample with an input size of 30 for test sets\n",
        "_, _, X_test_30, y_test_30 = load_hoda(\n",
        "                                            training_sample_size=3500,\n",
        "                                            test_sample_size=400,size=30)"
      ],
      "metadata": {
        "id": "A0OKaDhkrKLk"
      },
      "execution_count": 7,
      "outputs": []
    },
    {
      "cell_type": "markdown",
      "source": [
        "x_test_28 -> 400*784 and  x_test_30 -> 400*900"
      ],
      "metadata": {
        "id": "2JuXyayOsmTw"
      }
    },
    {
      "cell_type": "code",
      "source": [
        "# Preprocess input data\n",
        "'''normalize our data values to the range [0, 1]'''\n",
        "X_train_28 = X_train_28.astype('float32')\n",
        "X_test_28 = X_test_28.astype('float32')\n",
        "X_train_28 /= 255\n",
        "X_test_28 /= 255"
      ],
      "metadata": {
        "id": "LAdEfYDtrKUi"
      },
      "execution_count": 8,
      "outputs": []
    },
    {
      "cell_type": "code",
      "source": [
        "# Preprocess input data\n",
        "'''normalize our data values to the range [0, 1]'''\n",
        "X_test_30 = X_test_30.astype('float32')\n",
        "X_test_30 /= 255"
      ],
      "metadata": {
        "id": "A-7wDY2OtQY-"
      },
      "execution_count": 9,
      "outputs": []
    },
    {
      "cell_type": "code",
      "source": [
        "# Reshape to original image shape (n x 784)  ==> (n x 28 x 28 x 1)\n",
        "X_train_28 = X_train_28.reshape(-1,28,28,1)\n",
        "X_test_28 = X_test_28.reshape(-1,28,28,1)"
      ],
      "metadata": {
        "id": "-3kCTG5qtbT_"
      },
      "execution_count": 10,
      "outputs": []
    },
    {
      "cell_type": "code",
      "source": [
        "X_test_30 = X_test_30.reshape(-1,30,30,1)"
      ],
      "metadata": {
        "id": "z2WrCIxJxGMX"
      },
      "execution_count": 11,
      "outputs": []
    },
    {
      "cell_type": "code",
      "source": [
        "# 4. Preprocess class labels\n",
        "y_train_28 = keras.utils.to_categorical(y_train_28)\n",
        "y_test_28 = keras.utils.to_categorical(y_test_28)"
      ],
      "metadata": {
        "id": "O7H9kTRXxtsG"
      },
      "execution_count": 12,
      "outputs": []
    },
    {
      "cell_type": "code",
      "source": [
        "y_test_30 = keras.utils.to_categorical(y_test_30)"
      ],
      "metadata": {
        "id": "EvRind3pyOKu"
      },
      "execution_count": 13,
      "outputs": []
    },
    {
      "cell_type": "code",
      "source": [
        "# 5. Define model architecture\n",
        "model = Sequential()\n",
        "model.add(layers.Conv2D(32, (3, 3), activation='relu'))\n",
        "model.add(layers.MaxPooling2D((2, 2)))\n",
        "model.add(layers.Conv2D(64, (3, 3), activation='relu'))\n",
        "model.add(layers.MaxPooling2D((2, 2)))\n",
        "model.add(layers.Conv2D(64, (3, 3), activation='relu'))\n",
        "#model.add(layers.Flatten())\n",
        "model.add(layers.GlobalAveragePooling2D())\n",
        "model.add(layers.Dense(64, activation='relu'))\n",
        "model.add(Dropout(0.5))\n",
        "model.add(layers.Dense(10, activation='softmax'))\n",
        "\n"
      ],
      "metadata": {
        "id": "5sbNtIeSyZzU"
      },
      "execution_count": 14,
      "outputs": []
    },
    {
      "cell_type": "code",
      "source": [
        "# 6. Compile model\n",
        "model.compile(loss='categorical_crossentropy',\n",
        "              optimizer='adam',\n",
        "              metrics=['accuracy'])"
      ],
      "metadata": {
        "id": "C-u7jpNR4cx-"
      },
      "execution_count": 15,
      "outputs": []
    },
    {
      "cell_type": "code",
      "source": [
        "# 7. Fit model on training data\n",
        "history = model.fit(X_train_28, y_train_28,\n",
        "          epochs=200, batch_size=256)"
      ],
      "metadata": {
        "colab": {
          "base_uri": "https://localhost:8080/"
        },
        "id": "NAYU9Raa5hIq",
        "outputId": "0f3b750a-c342-4739-90ff-af4379261cb8"
      },
      "execution_count": 17,
      "outputs": [
        {
          "output_type": "stream",
          "name": "stdout",
          "text": [
            "Epoch 1/200\n",
            "14/14 [==============================] - 6s 287ms/step - loss: 2.2326 - accuracy: 0.1966\n",
            "Epoch 2/200\n",
            "14/14 [==============================] - 3s 216ms/step - loss: 1.8568 - accuracy: 0.3757\n",
            "Epoch 3/200\n",
            "14/14 [==============================] - 3s 197ms/step - loss: 1.3816 - accuracy: 0.5231\n",
            "Epoch 4/200\n",
            "14/14 [==============================] - 3s 197ms/step - loss: 1.0425 - accuracy: 0.6400\n",
            "Epoch 5/200\n",
            "14/14 [==============================] - 4s 260ms/step - loss: 0.8401 - accuracy: 0.7066\n",
            "Epoch 6/200\n",
            "14/14 [==============================] - 3s 230ms/step - loss: 0.7075 - accuracy: 0.7623\n",
            "Epoch 7/200\n",
            "14/14 [==============================] - 3s 209ms/step - loss: 0.6113 - accuracy: 0.7763\n",
            "Epoch 8/200\n",
            "14/14 [==============================] - 3s 201ms/step - loss: 0.5548 - accuracy: 0.8063\n",
            "Epoch 9/200\n",
            "14/14 [==============================] - 3s 251ms/step - loss: 0.5018 - accuracy: 0.8220\n",
            "Epoch 10/200\n",
            "14/14 [==============================] - 4s 255ms/step - loss: 0.4624 - accuracy: 0.8397\n",
            "Epoch 11/200\n",
            "14/14 [==============================] - 3s 200ms/step - loss: 0.4307 - accuracy: 0.8483\n",
            "Epoch 12/200\n",
            "14/14 [==============================] - 3s 202ms/step - loss: 0.3756 - accuracy: 0.8720\n",
            "Epoch 13/200\n",
            "14/14 [==============================] - 3s 237ms/step - loss: 0.3657 - accuracy: 0.8714\n",
            "Epoch 14/200\n",
            "14/14 [==============================] - 4s 256ms/step - loss: 0.3491 - accuracy: 0.8789\n",
            "Epoch 15/200\n",
            "14/14 [==============================] - 3s 196ms/step - loss: 0.3328 - accuracy: 0.8783\n",
            "Epoch 16/200\n",
            "14/14 [==============================] - 3s 204ms/step - loss: 0.3136 - accuracy: 0.8940\n",
            "Epoch 17/200\n",
            "14/14 [==============================] - 3s 212ms/step - loss: 0.2884 - accuracy: 0.8980\n",
            "Epoch 18/200\n",
            "14/14 [==============================] - 4s 277ms/step - loss: 0.2661 - accuracy: 0.9151\n",
            "Epoch 19/200\n",
            "14/14 [==============================] - 3s 203ms/step - loss: 0.2548 - accuracy: 0.9120\n",
            "Epoch 20/200\n",
            "14/14 [==============================] - 3s 212ms/step - loss: 0.2526 - accuracy: 0.9157\n",
            "Epoch 21/200\n",
            "14/14 [==============================] - 3s 204ms/step - loss: 0.2340 - accuracy: 0.9229\n",
            "Epoch 22/200\n",
            "14/14 [==============================] - 4s 296ms/step - loss: 0.2289 - accuracy: 0.9249\n",
            "Epoch 23/200\n",
            "14/14 [==============================] - 3s 193ms/step - loss: 0.2388 - accuracy: 0.9197\n",
            "Epoch 24/200\n",
            "14/14 [==============================] - 3s 208ms/step - loss: 0.2294 - accuracy: 0.9260\n",
            "Epoch 25/200\n",
            "14/14 [==============================] - 3s 198ms/step - loss: 0.1988 - accuracy: 0.9400\n",
            "Epoch 26/200\n",
            "14/14 [==============================] - 4s 308ms/step - loss: 0.2180 - accuracy: 0.9306\n",
            "Epoch 27/200\n",
            "14/14 [==============================] - 3s 202ms/step - loss: 0.2037 - accuracy: 0.9346\n",
            "Epoch 28/200\n",
            "14/14 [==============================] - 3s 191ms/step - loss: 0.1990 - accuracy: 0.9349\n",
            "Epoch 29/200\n",
            "14/14 [==============================] - 3s 200ms/step - loss: 0.1996 - accuracy: 0.9351\n",
            "Epoch 30/200\n",
            "14/14 [==============================] - 4s 303ms/step - loss: 0.1948 - accuracy: 0.9380\n",
            "Epoch 31/200\n",
            "14/14 [==============================] - 3s 201ms/step - loss: 0.1792 - accuracy: 0.9434\n",
            "Epoch 32/200\n",
            "14/14 [==============================] - 3s 206ms/step - loss: 0.1656 - accuracy: 0.9457\n",
            "Epoch 33/200\n",
            "14/14 [==============================] - 3s 205ms/step - loss: 0.1713 - accuracy: 0.9443\n",
            "Epoch 34/200\n",
            "14/14 [==============================] - 4s 305ms/step - loss: 0.1454 - accuracy: 0.9503\n",
            "Epoch 35/200\n",
            "14/14 [==============================] - 3s 204ms/step - loss: 0.1469 - accuracy: 0.9537\n",
            "Epoch 36/200\n",
            "14/14 [==============================] - 3s 207ms/step - loss: 0.1479 - accuracy: 0.9480\n",
            "Epoch 37/200\n",
            "14/14 [==============================] - 3s 202ms/step - loss: 0.1499 - accuracy: 0.9520\n",
            "Epoch 38/200\n",
            "14/14 [==============================] - 4s 289ms/step - loss: 0.1501 - accuracy: 0.9449\n",
            "Epoch 39/200\n",
            "14/14 [==============================] - 3s 206ms/step - loss: 0.1560 - accuracy: 0.9500\n",
            "Epoch 40/200\n",
            "14/14 [==============================] - 3s 206ms/step - loss: 0.1431 - accuracy: 0.9566\n",
            "Epoch 41/200\n",
            "14/14 [==============================] - 3s 196ms/step - loss: 0.1294 - accuracy: 0.9597\n",
            "Epoch 42/200\n",
            "14/14 [==============================] - 4s 263ms/step - loss: 0.1329 - accuracy: 0.9580\n",
            "Epoch 43/200\n",
            "14/14 [==============================] - 3s 231ms/step - loss: 0.1303 - accuracy: 0.9620\n",
            "Epoch 44/200\n",
            "14/14 [==============================] - 3s 202ms/step - loss: 0.1154 - accuracy: 0.9623\n",
            "Epoch 45/200\n",
            "14/14 [==============================] - 3s 196ms/step - loss: 0.1289 - accuracy: 0.9549\n",
            "Epoch 46/200\n",
            "14/14 [==============================] - 4s 256ms/step - loss: 0.1328 - accuracy: 0.9526\n",
            "Epoch 47/200\n",
            "14/14 [==============================] - 3s 239ms/step - loss: 0.1192 - accuracy: 0.9640\n",
            "Epoch 48/200\n",
            "14/14 [==============================] - 3s 200ms/step - loss: 0.1185 - accuracy: 0.9580\n",
            "Epoch 49/200\n",
            "14/14 [==============================] - 3s 207ms/step - loss: 0.1172 - accuracy: 0.9643\n",
            "Epoch 50/200\n",
            "14/14 [==============================] - 3s 227ms/step - loss: 0.1191 - accuracy: 0.9597\n",
            "Epoch 51/200\n",
            "14/14 [==============================] - 4s 265ms/step - loss: 0.1002 - accuracy: 0.9657\n",
            "Epoch 52/200\n",
            "14/14 [==============================] - 3s 206ms/step - loss: 0.1030 - accuracy: 0.9689\n",
            "Epoch 53/200\n",
            "14/14 [==============================] - 3s 195ms/step - loss: 0.0974 - accuracy: 0.9677\n",
            "Epoch 54/200\n",
            "14/14 [==============================] - 3s 225ms/step - loss: 0.0927 - accuracy: 0.9717\n",
            "Epoch 55/200\n",
            "14/14 [==============================] - 4s 270ms/step - loss: 0.0923 - accuracy: 0.9703\n",
            "Epoch 56/200\n",
            "14/14 [==============================] - 3s 208ms/step - loss: 0.0895 - accuracy: 0.9683\n",
            "Epoch 57/200\n",
            "14/14 [==============================] - 3s 206ms/step - loss: 0.1037 - accuracy: 0.9660\n",
            "Epoch 58/200\n",
            "14/14 [==============================] - 3s 204ms/step - loss: 0.0957 - accuracy: 0.9674\n",
            "Epoch 59/200\n",
            "14/14 [==============================] - 4s 289ms/step - loss: 0.0944 - accuracy: 0.9669\n",
            "Epoch 60/200\n",
            "14/14 [==============================] - 4s 274ms/step - loss: 0.0894 - accuracy: 0.9703\n",
            "Epoch 61/200\n",
            "14/14 [==============================] - 5s 343ms/step - loss: 0.0891 - accuracy: 0.9720\n",
            "Epoch 62/200\n",
            "14/14 [==============================] - 6s 412ms/step - loss: 0.0929 - accuracy: 0.9694\n",
            "Epoch 63/200\n",
            "14/14 [==============================] - 3s 211ms/step - loss: 0.0833 - accuracy: 0.9737\n",
            "Epoch 64/200\n",
            "14/14 [==============================] - 3s 205ms/step - loss: 0.0836 - accuracy: 0.9711\n",
            "Epoch 65/200\n",
            "14/14 [==============================] - 3s 209ms/step - loss: 0.0825 - accuracy: 0.9729\n",
            "Epoch 66/200\n",
            "14/14 [==============================] - 4s 309ms/step - loss: 0.0772 - accuracy: 0.9746\n",
            "Epoch 67/200\n",
            "14/14 [==============================] - 3s 209ms/step - loss: 0.0757 - accuracy: 0.9740\n",
            "Epoch 68/200\n",
            "14/14 [==============================] - 3s 205ms/step - loss: 0.0744 - accuracy: 0.9751\n",
            "Epoch 69/200\n",
            "14/14 [==============================] - 3s 214ms/step - loss: 0.0694 - accuracy: 0.9754\n",
            "Epoch 70/200\n",
            "14/14 [==============================] - 4s 305ms/step - loss: 0.0735 - accuracy: 0.9791\n",
            "Epoch 71/200\n",
            "14/14 [==============================] - 3s 204ms/step - loss: 0.0702 - accuracy: 0.9789\n",
            "Epoch 72/200\n",
            "14/14 [==============================] - 3s 211ms/step - loss: 0.0694 - accuracy: 0.9786\n",
            "Epoch 73/200\n",
            "14/14 [==============================] - 3s 206ms/step - loss: 0.0679 - accuracy: 0.9800\n",
            "Epoch 74/200\n",
            "14/14 [==============================] - 4s 314ms/step - loss: 0.0643 - accuracy: 0.9806\n",
            "Epoch 75/200\n",
            "14/14 [==============================] - 3s 210ms/step - loss: 0.0690 - accuracy: 0.9746\n",
            "Epoch 76/200\n",
            "14/14 [==============================] - 3s 205ms/step - loss: 0.0700 - accuracy: 0.9749\n",
            "Epoch 77/200\n",
            "14/14 [==============================] - 3s 203ms/step - loss: 0.0706 - accuracy: 0.9717\n",
            "Epoch 78/200\n",
            "14/14 [==============================] - 4s 316ms/step - loss: 0.0656 - accuracy: 0.9786\n",
            "Epoch 79/200\n",
            "14/14 [==============================] - 3s 204ms/step - loss: 0.0565 - accuracy: 0.9806\n",
            "Epoch 80/200\n",
            "14/14 [==============================] - 3s 195ms/step - loss: 0.0600 - accuracy: 0.9800\n",
            "Epoch 81/200\n",
            "14/14 [==============================] - 3s 203ms/step - loss: 0.0611 - accuracy: 0.9751\n",
            "Epoch 82/200\n",
            "14/14 [==============================] - 4s 313ms/step - loss: 0.0631 - accuracy: 0.9769\n",
            "Epoch 83/200\n",
            "14/14 [==============================] - 3s 207ms/step - loss: 0.0608 - accuracy: 0.9786\n",
            "Epoch 84/200\n",
            "14/14 [==============================] - 3s 213ms/step - loss: 0.0578 - accuracy: 0.9806\n",
            "Epoch 85/200\n",
            "14/14 [==============================] - 3s 200ms/step - loss: 0.0646 - accuracy: 0.9749\n",
            "Epoch 86/200\n",
            "14/14 [==============================] - 4s 303ms/step - loss: 0.0590 - accuracy: 0.9806\n",
            "Epoch 87/200\n",
            "14/14 [==============================] - 3s 201ms/step - loss: 0.0562 - accuracy: 0.9811\n",
            "Epoch 88/200\n",
            "14/14 [==============================] - 3s 204ms/step - loss: 0.0510 - accuracy: 0.9843\n",
            "Epoch 89/200\n",
            "14/14 [==============================] - 3s 198ms/step - loss: 0.0576 - accuracy: 0.9806\n",
            "Epoch 90/200\n",
            "14/14 [==============================] - 4s 306ms/step - loss: 0.0539 - accuracy: 0.9817\n",
            "Epoch 91/200\n",
            "14/14 [==============================] - 3s 200ms/step - loss: 0.0556 - accuracy: 0.9826\n",
            "Epoch 92/200\n",
            "14/14 [==============================] - 3s 202ms/step - loss: 0.0518 - accuracy: 0.9829\n",
            "Epoch 93/200\n",
            "14/14 [==============================] - 3s 208ms/step - loss: 0.0523 - accuracy: 0.9829\n",
            "Epoch 94/200\n",
            "14/14 [==============================] - 4s 301ms/step - loss: 0.0523 - accuracy: 0.9817\n",
            "Epoch 95/200\n",
            "14/14 [==============================] - 3s 197ms/step - loss: 0.0530 - accuracy: 0.9831\n",
            "Epoch 96/200\n",
            "14/14 [==============================] - 3s 199ms/step - loss: 0.0486 - accuracy: 0.9877\n",
            "Epoch 97/200\n",
            "14/14 [==============================] - 3s 200ms/step - loss: 0.0451 - accuracy: 0.9857\n",
            "Epoch 98/200\n",
            "14/14 [==============================] - 4s 296ms/step - loss: 0.0393 - accuracy: 0.9889\n",
            "Epoch 99/200\n",
            "14/14 [==============================] - 3s 197ms/step - loss: 0.0480 - accuracy: 0.9820\n",
            "Epoch 100/200\n",
            "14/14 [==============================] - 3s 200ms/step - loss: 0.0655 - accuracy: 0.9786\n",
            "Epoch 101/200\n",
            "14/14 [==============================] - 3s 200ms/step - loss: 0.0521 - accuracy: 0.9820\n",
            "Epoch 102/200\n",
            "14/14 [==============================] - 4s 274ms/step - loss: 0.0541 - accuracy: 0.9823\n",
            "Epoch 103/200\n",
            "14/14 [==============================] - 3s 229ms/step - loss: 0.0487 - accuracy: 0.9854\n",
            "Epoch 104/200\n",
            "14/14 [==============================] - 3s 206ms/step - loss: 0.0414 - accuracy: 0.9860\n",
            "Epoch 105/200\n",
            "14/14 [==============================] - 3s 209ms/step - loss: 0.0427 - accuracy: 0.9863\n",
            "Epoch 106/200\n",
            "14/14 [==============================] - 4s 275ms/step - loss: 0.0483 - accuracy: 0.9840\n",
            "Epoch 107/200\n",
            "14/14 [==============================] - 3s 230ms/step - loss: 0.0423 - accuracy: 0.9869\n",
            "Epoch 108/200\n",
            "14/14 [==============================] - 3s 211ms/step - loss: 0.0414 - accuracy: 0.9840\n",
            "Epoch 109/200\n",
            "14/14 [==============================] - 3s 201ms/step - loss: 0.0371 - accuracy: 0.9863\n",
            "Epoch 110/200\n",
            "14/14 [==============================] - 4s 278ms/step - loss: 0.0389 - accuracy: 0.9846\n",
            "Epoch 111/200\n",
            "14/14 [==============================] - 3s 231ms/step - loss: 0.0409 - accuracy: 0.9849\n",
            "Epoch 112/200\n",
            "14/14 [==============================] - 3s 196ms/step - loss: 0.0453 - accuracy: 0.9857\n",
            "Epoch 113/200\n",
            "14/14 [==============================] - 3s 210ms/step - loss: 0.0445 - accuracy: 0.9834\n",
            "Epoch 114/200\n",
            "14/14 [==============================] - 4s 296ms/step - loss: 0.0384 - accuracy: 0.9883\n",
            "Epoch 115/200\n",
            "14/14 [==============================] - 3s 218ms/step - loss: 0.0316 - accuracy: 0.9909\n",
            "Epoch 116/200\n",
            "14/14 [==============================] - 3s 194ms/step - loss: 0.0320 - accuracy: 0.9889\n",
            "Epoch 117/200\n",
            "14/14 [==============================] - 3s 205ms/step - loss: 0.0373 - accuracy: 0.9863\n",
            "Epoch 118/200\n",
            "14/14 [==============================] - 3s 244ms/step - loss: 0.0331 - accuracy: 0.9894\n",
            "Epoch 119/200\n",
            "14/14 [==============================] - 4s 238ms/step - loss: 0.0433 - accuracy: 0.9823\n",
            "Epoch 120/200\n",
            "14/14 [==============================] - 3s 206ms/step - loss: 0.0320 - accuracy: 0.9900\n",
            "Epoch 121/200\n",
            "14/14 [==============================] - 3s 201ms/step - loss: 0.0394 - accuracy: 0.9880\n",
            "Epoch 122/200\n",
            "14/14 [==============================] - 3s 246ms/step - loss: 0.0422 - accuracy: 0.9880\n",
            "Epoch 123/200\n",
            "14/14 [==============================] - 4s 261ms/step - loss: 0.0381 - accuracy: 0.9883\n",
            "Epoch 124/200\n",
            "14/14 [==============================] - 3s 206ms/step - loss: 0.0280 - accuracy: 0.9909\n",
            "Epoch 125/200\n",
            "14/14 [==============================] - 3s 203ms/step - loss: 0.0280 - accuracy: 0.9894\n",
            "Epoch 126/200\n",
            "14/14 [==============================] - 3s 239ms/step - loss: 0.0251 - accuracy: 0.9906\n",
            "Epoch 127/200\n",
            "14/14 [==============================] - 4s 256ms/step - loss: 0.0366 - accuracy: 0.9880\n",
            "Epoch 128/200\n",
            "14/14 [==============================] - 3s 204ms/step - loss: 0.0315 - accuracy: 0.9900\n",
            "Epoch 129/200\n",
            "14/14 [==============================] - 3s 203ms/step - loss: 0.0378 - accuracy: 0.9869\n",
            "Epoch 130/200\n",
            "14/14 [==============================] - 3s 207ms/step - loss: 0.0383 - accuracy: 0.9883\n",
            "Epoch 131/200\n",
            "14/14 [==============================] - 4s 294ms/step - loss: 0.0312 - accuracy: 0.9909\n",
            "Epoch 132/200\n",
            "14/14 [==============================] - 3s 218ms/step - loss: 0.0281 - accuracy: 0.9903\n",
            "Epoch 133/200\n",
            "14/14 [==============================] - 3s 214ms/step - loss: 0.0264 - accuracy: 0.9900\n",
            "Epoch 134/200\n",
            "14/14 [==============================] - 3s 214ms/step - loss: 0.0290 - accuracy: 0.9891\n",
            "Epoch 135/200\n",
            "14/14 [==============================] - 4s 288ms/step - loss: 0.0265 - accuracy: 0.9914\n",
            "Epoch 136/200\n",
            "14/14 [==============================] - 3s 209ms/step - loss: 0.0276 - accuracy: 0.9914\n",
            "Epoch 137/200\n",
            "14/14 [==============================] - 3s 208ms/step - loss: 0.0240 - accuracy: 0.9917\n",
            "Epoch 138/200\n",
            "14/14 [==============================] - 3s 218ms/step - loss: 0.0301 - accuracy: 0.9877\n",
            "Epoch 139/200\n",
            "14/14 [==============================] - 4s 282ms/step - loss: 0.0312 - accuracy: 0.9877\n",
            "Epoch 140/200\n",
            "14/14 [==============================] - 3s 206ms/step - loss: 0.0402 - accuracy: 0.9854\n",
            "Epoch 141/200\n",
            "14/14 [==============================] - 3s 211ms/step - loss: 0.0311 - accuracy: 0.9900\n",
            "Epoch 142/200\n",
            "14/14 [==============================] - 3s 236ms/step - loss: 0.0275 - accuracy: 0.9909\n",
            "Epoch 143/200\n",
            "14/14 [==============================] - 4s 267ms/step - loss: 0.0312 - accuracy: 0.9889\n",
            "Epoch 144/200\n",
            "14/14 [==============================] - 3s 202ms/step - loss: 0.0291 - accuracy: 0.9880\n",
            "Epoch 145/200\n",
            "14/14 [==============================] - 3s 204ms/step - loss: 0.0350 - accuracy: 0.9886\n",
            "Epoch 146/200\n",
            "14/14 [==============================] - 3s 218ms/step - loss: 0.0265 - accuracy: 0.9920\n",
            "Epoch 147/200\n",
            "14/14 [==============================] - 4s 291ms/step - loss: 0.0378 - accuracy: 0.9866\n",
            "Epoch 148/200\n",
            "14/14 [==============================] - 3s 198ms/step - loss: 0.0283 - accuracy: 0.9894\n",
            "Epoch 149/200\n",
            "14/14 [==============================] - 3s 206ms/step - loss: 0.0238 - accuracy: 0.9929\n",
            "Epoch 150/200\n",
            "14/14 [==============================] - 3s 214ms/step - loss: 0.0255 - accuracy: 0.9909\n",
            "Epoch 151/200\n",
            "14/14 [==============================] - 4s 283ms/step - loss: 0.0261 - accuracy: 0.9920\n",
            "Epoch 152/200\n",
            "14/14 [==============================] - 3s 198ms/step - loss: 0.0213 - accuracy: 0.9926\n",
            "Epoch 153/200\n",
            "14/14 [==============================] - 3s 194ms/step - loss: 0.0249 - accuracy: 0.9906\n",
            "Epoch 154/200\n",
            "14/14 [==============================] - 3s 197ms/step - loss: 0.0260 - accuracy: 0.9906\n",
            "Epoch 155/200\n",
            "14/14 [==============================] - 4s 300ms/step - loss: 0.0282 - accuracy: 0.9911\n",
            "Epoch 156/200\n",
            "14/14 [==============================] - 3s 201ms/step - loss: 0.0264 - accuracy: 0.9911\n",
            "Epoch 157/200\n",
            "14/14 [==============================] - 3s 207ms/step - loss: 0.0248 - accuracy: 0.9917\n",
            "Epoch 158/200\n",
            "14/14 [==============================] - 3s 207ms/step - loss: 0.0205 - accuracy: 0.9937\n",
            "Epoch 159/200\n",
            "14/14 [==============================] - 4s 301ms/step - loss: 0.0239 - accuracy: 0.9909\n",
            "Epoch 160/200\n",
            "14/14 [==============================] - 3s 201ms/step - loss: 0.0238 - accuracy: 0.9917\n",
            "Epoch 161/200\n",
            "14/14 [==============================] - 3s 208ms/step - loss: 0.0257 - accuracy: 0.9917\n",
            "Epoch 162/200\n",
            "14/14 [==============================] - 3s 211ms/step - loss: 0.0177 - accuracy: 0.9937\n",
            "Epoch 163/200\n",
            "14/14 [==============================] - 4s 306ms/step - loss: 0.0217 - accuracy: 0.9917\n",
            "Epoch 164/200\n",
            "14/14 [==============================] - 3s 196ms/step - loss: 0.0208 - accuracy: 0.9931\n",
            "Epoch 165/200\n",
            "14/14 [==============================] - 3s 207ms/step - loss: 0.0186 - accuracy: 0.9931\n",
            "Epoch 166/200\n",
            "14/14 [==============================] - 3s 205ms/step - loss: 0.0150 - accuracy: 0.9971\n",
            "Epoch 167/200\n",
            "14/14 [==============================] - 4s 313ms/step - loss: 0.0187 - accuracy: 0.9946\n",
            "Epoch 168/200\n",
            "14/14 [==============================] - 3s 198ms/step - loss: 0.0192 - accuracy: 0.9931\n",
            "Epoch 169/200\n",
            "14/14 [==============================] - 3s 211ms/step - loss: 0.0170 - accuracy: 0.9940\n",
            "Epoch 170/200\n",
            "14/14 [==============================] - 3s 198ms/step - loss: 0.0184 - accuracy: 0.9920\n",
            "Epoch 171/200\n",
            "14/14 [==============================] - 4s 297ms/step - loss: 0.0152 - accuracy: 0.9951\n",
            "Epoch 172/200\n",
            "14/14 [==============================] - 3s 209ms/step - loss: 0.0181 - accuracy: 0.9934\n",
            "Epoch 173/200\n",
            "14/14 [==============================] - 3s 198ms/step - loss: 0.0218 - accuracy: 0.9931\n",
            "Epoch 174/200\n",
            "14/14 [==============================] - 3s 207ms/step - loss: 0.0193 - accuracy: 0.9940\n",
            "Epoch 175/200\n",
            "14/14 [==============================] - 4s 307ms/step - loss: 0.0124 - accuracy: 0.9960\n",
            "Epoch 176/200\n",
            "14/14 [==============================] - 3s 208ms/step - loss: 0.0157 - accuracy: 0.9954\n",
            "Epoch 177/200\n",
            "14/14 [==============================] - 3s 206ms/step - loss: 0.0250 - accuracy: 0.9911\n",
            "Epoch 178/200\n",
            "14/14 [==============================] - 3s 205ms/step - loss: 0.0188 - accuracy: 0.9929\n",
            "Epoch 179/200\n",
            "14/14 [==============================] - 4s 298ms/step - loss: 0.0194 - accuracy: 0.9929\n",
            "Epoch 180/200\n",
            "14/14 [==============================] - 3s 215ms/step - loss: 0.0252 - accuracy: 0.9903\n",
            "Epoch 181/200\n",
            "14/14 [==============================] - 3s 213ms/step - loss: 0.0250 - accuracy: 0.9911\n",
            "Epoch 182/200\n",
            "14/14 [==============================] - 3s 198ms/step - loss: 0.0217 - accuracy: 0.9943\n",
            "Epoch 183/200\n",
            "14/14 [==============================] - 4s 288ms/step - loss: 0.0322 - accuracy: 0.9883\n",
            "Epoch 184/200\n",
            "14/14 [==============================] - 3s 214ms/step - loss: 0.0361 - accuracy: 0.9874\n",
            "Epoch 185/200\n",
            "14/14 [==============================] - 3s 205ms/step - loss: 0.0243 - accuracy: 0.9911\n",
            "Epoch 186/200\n",
            "14/14 [==============================] - 3s 208ms/step - loss: 0.0198 - accuracy: 0.9937\n",
            "Epoch 187/200\n",
            "14/14 [==============================] - 5s 335ms/step - loss: 0.0193 - accuracy: 0.9937\n",
            "Epoch 188/200\n",
            "14/14 [==============================] - 3s 212ms/step - loss: 0.0225 - accuracy: 0.9926\n",
            "Epoch 189/200\n",
            "14/14 [==============================] - 3s 227ms/step - loss: 0.0211 - accuracy: 0.9929\n",
            "Epoch 190/200\n",
            "14/14 [==============================] - 3s 204ms/step - loss: 0.0208 - accuracy: 0.9931\n",
            "Epoch 191/200\n",
            "14/14 [==============================] - 4s 306ms/step - loss: 0.0205 - accuracy: 0.9943\n",
            "Epoch 192/200\n",
            "14/14 [==============================] - 3s 211ms/step - loss: 0.0266 - accuracy: 0.9917\n",
            "Epoch 193/200\n",
            "14/14 [==============================] - 3s 202ms/step - loss: 0.0244 - accuracy: 0.9920\n",
            "Epoch 194/200\n",
            "14/14 [==============================] - 3s 201ms/step - loss: 0.0179 - accuracy: 0.9937\n",
            "Epoch 195/200\n",
            "14/14 [==============================] - 4s 302ms/step - loss: 0.0165 - accuracy: 0.9954\n",
            "Epoch 196/200\n",
            "14/14 [==============================] - 3s 203ms/step - loss: 0.0205 - accuracy: 0.9937\n",
            "Epoch 197/200\n",
            "14/14 [==============================] - 3s 217ms/step - loss: 0.0168 - accuracy: 0.9929\n",
            "Epoch 198/200\n",
            "14/14 [==============================] - 3s 201ms/step - loss: 0.0192 - accuracy: 0.9946\n",
            "Epoch 199/200\n",
            "14/14 [==============================] - 4s 300ms/step - loss: 0.0194 - accuracy: 0.9937\n",
            "Epoch 200/200\n",
            "14/14 [==============================] - 3s 204ms/step - loss: 0.0172 - accuracy: 0.9943\n"
          ]
        }
      ]
    },
    {
      "cell_type": "code",
      "source": [
        "model.summary()"
      ],
      "metadata": {
        "colab": {
          "base_uri": "https://localhost:8080/"
        },
        "id": "DSlhdmPt5Vbj",
        "outputId": "85ea6716-5ad8-44a6-efbf-84b8f82f846b"
      },
      "execution_count": 18,
      "outputs": [
        {
          "output_type": "stream",
          "name": "stdout",
          "text": [
            "Model: \"sequential\"\n",
            "_________________________________________________________________\n",
            " Layer (type)                Output Shape              Param #   \n",
            "=================================================================\n",
            " conv2d (Conv2D)             (None, 26, 26, 32)        320       \n",
            "                                                                 \n",
            " max_pooling2d (MaxPooling2D  (None, 13, 13, 32)       0         \n",
            " )                                                               \n",
            "                                                                 \n",
            " conv2d_1 (Conv2D)           (None, 11, 11, 64)        18496     \n",
            "                                                                 \n",
            " max_pooling2d_1 (MaxPooling  (None, 5, 5, 64)         0         \n",
            " 2D)                                                             \n",
            "                                                                 \n",
            " conv2d_2 (Conv2D)           (None, 3, 3, 64)          36928     \n",
            "                                                                 \n",
            " global_average_pooling2d (G  (None, 64)               0         \n",
            " lobalAveragePooling2D)                                          \n",
            "                                                                 \n",
            " dense (Dense)               (None, 64)                4160      \n",
            "                                                                 \n",
            " dropout (Dropout)           (None, 64)                0         \n",
            "                                                                 \n",
            " dense_1 (Dense)             (None, 10)                650       \n",
            "                                                                 \n",
            "=================================================================\n",
            "Total params: 60,554\n",
            "Trainable params: 60,554\n",
            "Non-trainable params: 0\n",
            "_________________________________________________________________\n"
          ]
        }
      ]
    },
    {
      "cell_type": "code",
      "source": [
        "model.evaluate(X_test_28,y_test_28)"
      ],
      "metadata": {
        "colab": {
          "base_uri": "https://localhost:8080/"
        },
        "id": "zV5AzaeB9XcM",
        "outputId": "fde69979-8b12-4e07-9b99-9658f444696b"
      },
      "execution_count": 19,
      "outputs": [
        {
          "output_type": "stream",
          "name": "stdout",
          "text": [
            "13/13 [==============================] - 0s 11ms/step - loss: 0.0473 - accuracy: 0.9900\n"
          ]
        },
        {
          "output_type": "execute_result",
          "data": {
            "text/plain": [
              "[0.0473477803170681, 0.9900000095367432]"
            ]
          },
          "metadata": {},
          "execution_count": 19
        }
      ]
    },
    {
      "cell_type": "code",
      "source": [
        "model.evaluate(X_test_30, y_test_30)"
      ],
      "metadata": {
        "colab": {
          "base_uri": "https://localhost:8080/"
        },
        "id": "gLobF4P9T_xK",
        "outputId": "1451bdd3-d796-499f-e56d-f243351dac65"
      },
      "execution_count": 20,
      "outputs": [
        {
          "output_type": "stream",
          "name": "stdout",
          "text": [
            "13/13 [==============================] - 0s 11ms/step - loss: 0.0450 - accuracy: 0.9875\n"
          ]
        },
        {
          "output_type": "execute_result",
          "data": {
            "text/plain": [
              "[0.04503708332777023, 0.987500011920929]"
            ]
          },
          "metadata": {},
          "execution_count": 20
        }
      ]
    },
    {
      "cell_type": "code",
      "source": [],
      "metadata": {
        "id": "IdkXqItS98xb"
      },
      "execution_count": null,
      "outputs": []
    },
    {
      "cell_type": "markdown",
      "source": [],
      "metadata": {
        "id": "xjPFqk5BskWa"
      }
    }
  ]
}